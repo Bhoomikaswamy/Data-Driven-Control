{
 "cells": [
  {
   "cell_type": "code",
   "execution_count": 1,
   "id": "a56c5b22-db53-4dbf-9066-346e02000b20",
   "metadata": {},
   "outputs": [
    {
     "name": "stdout",
     "output_type": "stream",
     "text": [
      "A1: [[6 3]\n",
      " [7 4]]\n",
      "B1: [[6]\n",
      " [9]]\n",
      "A2: [[2 6]\n",
      " [7 4]]\n",
      "B2: [[3]\n",
      " [7]]\n"
     ]
    }
   ],
   "source": [
    "import numpy as np\n",
    "import pandas as pd\n",
    "from numpy.linalg import pinv\n",
    "from scipy.linalg import null_space\n",
    "#data\n",
    "np.random.seed(42)\n",
    "n = 2 # No of State Rows X - A\n",
    "m = 1 #No of i/p cls U - B\n",
    "sample = 5\n",
    "\n",
    "# A and B Matrices for Mode 1 with integer values between 0 and 10\n",
    "A1 = np.random.randint(0, 10, size=(n, n))\n",
    "B1 = np.random.randint(0, 10, size=(n, m))\n",
    "\n",
    "# A and B Matrices for Mode 2 with integer values between 0 and 10\n",
    "A2 = np.random.randint(0, 10, size=(n, n))\n",
    "B2 = np.random.randint(0, 10, size=(n, m))\n",
    "print(\"A1:\", A1)\n",
    "print(\"B1:\", B1)\n",
    "print(\"A2:\", A2)\n",
    "print(\"B2:\", B2)"
   ]
  },
  {
   "cell_type": "code",
   "execution_count": 3,
   "id": "56ad73d1-7f59-467e-a5d6-95358b3139f3",
   "metadata": {},
   "outputs": [
    {
     "name": "stdout",
     "output_type": "stream",
     "text": [
      "X1_:\n",
      " [[ -8  10  -9   1  -5]\n",
      " [ -9  10 -10   1   1]]\n",
      "U1_:\n",
      " [[ 6 -1  5  4  4]]\n",
      "X2_:\n",
      " [[ 8  1  9 -8 -6]\n",
      " [ 8 -4 10 -2 -4]]\n",
      "U2_:\n",
      " [[ 7 -7  3  7 -2]]\n"
     ]
    }
   ],
   "source": [
    "# Generate random integer data for X1 and U1 (values between -10 and 10)\n",
    "X1_ = np.random.randint(-10, 11, size=(n, sample))\n",
    "U1_ = np.random.randint(-10, 11, size=(m, sample))\n",
    "\n",
    "# Generate random integer data for X2 and U2 (values between -10 and 10)\n",
    "X2_ = np.random.randint(-10, 11, size=(n, sample))\n",
    "U2_ = np.random.randint(-10, 11, size=(m, sample))\n",
    "\n",
    "print(\"X1_:\\n\", X1_)\n",
    "print(\"U1_:\\n\", U1_)\n",
    "print(\"X2_:\\n\", X2_)\n",
    "print(\"U2_:\\n\", U2_)"
   ]
  },
  {
   "cell_type": "code",
   "execution_count": 5,
   "id": "a0f23deb-2e52-4c8d-88f8-2c98754077b7",
   "metadata": {},
   "outputs": [
    {
     "name": "stdout",
     "output_type": "stream",
     "text": [
      "[[-39  84 -54  33  -3]\n",
      " [-38 101 -58  47   5]]\n",
      "[[ 85 -43  87  -7 -42]\n",
      " [137 -58 124 -15 -72]]\n"
     ]
    }
   ],
   "source": [
    "# Simulate X_plus for both modes (noiseless)\n",
    "X1_plus = A1 @ X1_ + B1 @ U1_\n",
    "X2_plus = A2 @ X2_ + B2 @ U2_\n",
    "print (X1_plus)\n",
    "print (X2_plus)"
   ]
  },
  {
   "cell_type": "code",
   "execution_count": 7,
   "id": "55189c59-49b8-42b0-91d3-6ebbcf333a16",
   "metadata": {},
   "outputs": [
    {
     "name": "stdout",
     "output_type": "stream",
     "text": [
      "Estimated A1:\n",
      " [[6. 3.]\n",
      " [7. 4.]]\n",
      "Estimated B1:\n",
      " [[6.]\n",
      " [9.]]\n",
      "Estimated A2:\n",
      " [[2. 6.]\n",
      " [7. 4.]]\n",
      "Estimated B2:\n",
      " [[3.]\n",
      " [7.]]\n"
     ]
    }
   ],
   "source": [
    "# Concatenate X_minus and U_minus\n",
    "Z1 = np.vstack((X1_, U1_))\n",
    "Z2 = np.vstack((X2_, U2_))\n",
    "\n",
    "# Θ=[AB] and z=concate matrix\n",
    "Theta1_est = X1_plus @ pinv(Z1)\n",
    "Theta2_est = X2_plus @ pinv(Z2)\n",
    "\n",
    "# Extract A and B from Theta\n",
    "A1_est = Theta1_est[:, :n]\n",
    "B1_est = Theta1_est[:, n:]\n",
    "\n",
    "A2_est = Theta2_est[:, :n]\n",
    "B2_est = Theta2_est[:, n:]\n",
    "\n",
    "print(\"Estimated A1:\\n\", A1_est)\n",
    "print(\"Estimated B1:\\n\", B1_est)\n",
    "print(\"Estimated A2:\\n\", A2_est)\n",
    "print(\"Estimated B2:\\n\", B2_est)\n"
   ]
  },
  {
   "cell_type": "code",
   "execution_count": 32,
   "id": "80dfa59c-cc48-40c4-a2ba-43f11522870a",
   "metadata": {},
   "outputs": [
    {
     "name": "stdout",
     "output_type": "stream",
     "text": [
      "Generated Online State Data (X_on):\n",
      " [[         27         294        2841       27579      267273     2590029\n",
      "     25098495   243214863 -1938114091  1364050969]\n",
      " [         44         365        3491       33941      328781     3186107\n",
      "     30874631   299187989 -1395711209 -1969774352]]\n",
      "Generated Online Input Data (U_on):\n",
      " [[ 4  0 -3 10 -4  8  0  0 10 -7]]\n"
     ]
    }
   ],
   "source": [
    "# Set random seed for reproducibility\n",
    "np.random.seed(42)\n",
    "\n",
    "# System dimensions\n",
    "n = 2  # Number of states\n",
    "m = 1  # Number of inputs\n",
    "T_on = 10  # Time horizon for online data generation\n",
    "\n",
    "# Initial state for online data generation\n",
    "X_on = np.random.randint(-10, 11, size=(n, 1))\n",
    "\n",
    "# Containers to store online data\n",
    "X_on_data = []\n",
    "U_on_data = []\n",
    "\n",
    "# Generate online inputs (random for now)\n",
    "for t in range(T_on):\n",
    "    # Random input between -10 and 10\n",
    "    U_on = np.random.randint(-10, 11, size=(m, 1))\n",
    "    \n",
    "    # Simulate next state for Mode 1 (you can choose Mode 2 by replacing A1_est, B1_est)\n",
    "    X_on_next = A1_est @ X_on + B1_est @ U_on  # No noise added\n",
    "\n",
    "    # Store the data\n",
    "    X_on_data.append(X_on_next)\n",
    "    U_on_data.append(U_on)\n",
    "\n",
    "    # Update the current state\n",
    "    X_on = X_on_next\n",
    "\n",
    "# Convert lists to numpy arrays for easier manipulation\n",
    "X_on_data = np.hstack(X_on_data)  # Shape: (n, T_on)\n",
    "U_on_data = np.hstack(U_on_data)  # Shape: (m, T_on)\n",
    "\n",
    "# Display generated online data\n",
    "print(\"Generated Online State Data (X_on):\\n\", X_on_data)\n",
    "print(\"Generated Online Input Data (U_on):\\n\", U_on_data)\n"
   ]
  },
  {
   "cell_type": "code",
   "execution_count": 43,
   "id": "045a8d7a-fa16-4c6b-b362-5c470657f97f",
   "metadata": {},
   "outputs": [
    {
     "name": "stdout",
     "output_type": "stream",
     "text": [
      "Mode 1 is controllable: True\n",
      "Controllability Matrix for Mode 1:\n",
      "[[ 6 63]\n",
      " [ 9 78]]\n",
      "Rank of Controllability Matrix for Mode 1: 2\n",
      "\n",
      "Mode 2 is controllable: True\n",
      "Controllability Matrix for Mode 2:\n",
      "[[ 3 48]\n",
      " [ 7 49]]\n",
      "Rank of Controllability Matrix for Mode 2: 2\n",
      "\n"
     ]
    }
   ],
   "source": [
    "# Function to check controllability using controllability matrix\n",
    "def is_controllable(A, B):\n",
    "    n = A.shape[0]\n",
    "    controllability_matrix = B\n",
    "    for i in range(1, n):\n",
    "        controllability_matrix = np.hstack((controllability_matrix, np.linalg.matrix_power(A, i) @ B))\n",
    "    rank = matrix_rank(controllability_matrix)\n",
    "    return controllability_matrix, rank == n, rank\n",
    "\n",
    "# Check controllability for Mode 1 and Mode 2\n",
    "controllability_matrix_mode1, controllable_mode1, rank_mode1 = is_controllable(A1_est, B1_est)\n",
    "controllability_matrix_mode2, controllable_mode2, rank_mode2 = is_controllable(A2_est, B2_est)\n",
    "\n",
    "print(f\"Mode 1 is controllable: {controllable_mode1}\")\n",
    "print(f\"Controllability Matrix for Mode 1:\\n{controllability_matrix_mode1}\")\n",
    "print(f\"Rank of Controllability Matrix for Mode 1: {rank_mode1}\\n\")\n",
    "\n",
    "print(f\"Mode 2 is controllable: {controllable_mode2}\")\n",
    "print(f\"Controllability Matrix for Mode 2:\\n{controllability_matrix_mode2}\")\n",
    "print(f\"Rank of Controllability Matrix for Mode 2: {rank_mode2}\\n\")"
   ]
  },
  {
   "cell_type": "code",
   "execution_count": 55,
   "id": "79e7cf93-7450-45ca-860e-83076ad639ff",
   "metadata": {},
   "outputs": [
    {
     "name": "stdout",
     "output_type": "stream",
     "text": [
      "Combined data Matrix Uon and Xon: \n",
      " [[  27  294 2841]\n",
      " [  44  365 3491]\n",
      " [   4    0   -3]]\n",
      "Rank of the combined matrix [X_on^- ; U_on^-]: 3\n",
      "Expected rank (n + m): 3\n",
      "Rank condition satisfied: The set Σ(U_on^-, X_on^-) is a singleton.\n"
     ]
    }
   ],
   "source": [
    "# Check rank condition: rank([X_on^- ; U_on^-]) == n + m\n",
    "# Using first (n + m) columns for the condition\n",
    "X_on_minus = X_on_data[:, :n + m]\n",
    "U_on_minus = U_on_data[:, :n + m]\n",
    "\n",
    "# Concatenate vertically\n",
    "combined_matrix = np.vstack((X_on_minus, U_on_minus))\n",
    "\n",
    "# Compute the rank\n",
    "rank_combined = matrix_rank(combined_matrix)\n",
    "\n",
    "print('Combined data Matrix Uon and Xon: \\n', combined_matrix)\n",
    "\n",
    "print(f\"Rank of the combined matrix [X_on^- ; U_on^-]: {rank_combined}\")\n",
    "print(f\"Expected rank (n + m): {n + m}\")\n",
    "\n",
    "if rank_combined == n + m:\n",
    "    print(\"Rank condition satisfied: The set Σ(U_on^-, X_on^-) is a singleton.\")\n",
    "else:\n",
    "    print(\"Rank condition NOT satisfied: The set Σ(U_on^-, X_on^-) is not a singleton.\")\n"
   ]
  },
  {
   "cell_type": "code",
   "execution_count": 67,
   "id": "c36f440e-b19f-4855-b744-3e810d3bc7e6",
   "metadata": {},
   "outputs": [
    {
     "name": "stdout",
     "output_type": "stream",
     "text": [
      "Generated Online State Data (X_on):\n",
      " [[ 9 18 18 18 18 18 18 18 18 18]\n",
      " [11 22 22 22 22 22 22 22 22 22]]\n",
      "Generated Online Input Data (U_on):\n",
      " [[ 0  2  4  6  8 10 12 14 16 18]]\n",
      "[[ 9 18 18]\n",
      " [11 22 22]\n",
      " [ 0  2  4]]\n",
      "Rank of the combined matrix [X_on^- ; U_on^-]: 2\n",
      "Expected rank (n + m): 3\n",
      "Rank condition NOT satisfied: The set Σ(U_on^-, X_on^-) is not a singleton.\n"
     ]
    }
   ],
   "source": [
    "#Non Singleton Scenario\n",
    "\n",
    "# Initial state for online data generation\n",
    "X_on = np.array([[1], [1]])  # Fixed initial state to introduce dependency\n",
    "\n",
    "# Containers to store online data\n",
    "X_on_data = []\n",
    "U_on_data = []\n",
    "\n",
    "# Generate online inputs designed to create rank deficiency\n",
    "for t in range(T_on):\n",
    "    # Linearly dependent inputs (e.g., multiples of a base input)\n",
    "    U_on = np.array([[2 * t]])  # Linearly increasing input to ensure dependency\n",
    "    \n",
    "    # Simulate next state for Mode 1 (you can choose Mode 2 by replacing A1_est, B1_est)\n",
    "    X_on_next = A1_est @ X_on + B1_est @ U_on  # No noise added\n",
    "\n",
    "    # Force linear dependency in states by making each new state a linear combination of the first\n",
    "    if t > 0:\n",
    "        X_on_next = 2 * X_on_data[0]\n",
    "\n",
    "    # Store the data\n",
    "    X_on_data.append(X_on_next)\n",
    "    U_on_data.append(U_on)\n",
    "\n",
    "    # Update the current state\n",
    "    X_on = X_on_next\n",
    "\n",
    "# Convert lists to numpy arrays for easier manipulation\n",
    "X_on_data = np.hstack(X_on_data)  # Shape: (n, T_on)\n",
    "U_on_data = np.hstack(U_on_data)  # Shape: (m, T_on)\n",
    "\n",
    "# Display generated online data\n",
    "print(\"Generated Online State Data (X_on):\\n\", X_on_data)\n",
    "print(\"Generated Online Input Data (U_on):\\n\", U_on_data)\n",
    "\n",
    "# Check rank condition: rank([X_on^- ; U_on^-]) == n + m\n",
    "# Using first (n + m) columns for the condition\n",
    "X_on_minus = X_on_data[:, :n + m]\n",
    "U_on_minus = U_on_data[:, :n + m]\n",
    "\n",
    "# Concatenate vertically\n",
    "combined_matrix = np.vstack((X_on_minus, U_on_minus))\n",
    "print(combined_matrix)\n",
    "# Compute the rank\n",
    "rank_combined = matrix_rank(combined_matrix)\n",
    "\n",
    "print(f\"Rank of the combined matrix [X_on^- ; U_on^-]: {rank_combined}\")\n",
    "print(f\"Expected rank (n + m): {n + m}\")\n",
    "\n",
    "if rank_combined == n + m:\n",
    "    print(\"Rank condition satisfied: The set Σ(U_on^-, X_on^-) is a singleton.\")\n",
    "else:\n",
    "    print(\"Rank condition NOT satisfied: The set Σ(U_on^-, X_on^-) is not a singleton.\")"
   ]
  },
  {
   "cell_type": "code",
   "execution_count": 81,
   "id": "536bd771-6562-4e0e-94ab-a3e69071518e",
   "metadata": {},
   "outputs": [
    {
     "name": "stdout",
     "output_type": "stream",
     "text": [
      "[[0.0550055]\n",
      " [0.110011 ]\n",
      " [0.110011 ]]\n",
      "[]\n",
      "1\n",
      "[42.63801121  0.        ]\n",
      "x(t) is in the image of X_on^-. Proceeding to input selection.\n"
     ]
    }
   ],
   "source": [
    "# Active State Check for u(t) selection\n",
    "from numpy.linalg import matrix_rank, lstsq\n",
    "# Check if x(t) is in the image of X_on^-\n",
    "def is_in_image(X_on_minus, x_t):\n",
    "    solution, residuals, rank, s = lstsq(X_on_minus, x_t, rcond=None)\n",
    "    print(solution)\n",
    "    print(residuals)\n",
    "    print(rank)\n",
    "    print(s)\n",
    "    return residuals.size == 0 or np.allclose(residuals, 0)\n",
    "\n",
    "# Example current state x(t)\n",
    "x_t = np.array([[5], [5]])  # Replace with actual state as needed\n",
    "\n",
    "if is_in_image(X_on_minus, x_t):\n",
    "    print(f\"x(t) is in the image of X_on^-. Proceeding to input selection.\")\n",
    "else:\n",
    "    u_t = np.zeros((m, 1))\n",
    "    print(f\"x(t) is NOT in the image of X_on^-. Setting u(t) = {u_t.flatten()}\")"
   ]
  },
  {
   "cell_type": "code",
   "execution_count": 83,
   "id": "22f90084-8824-4df0-8e8b-a895ebe69c53",
   "metadata": {},
   "outputs": [],
   "source": [
    "from numpy.linalg import matrix_rank, pinv\n",
    "\n",
    "# Function to check if x(t) is in the image of X_on^-\n",
    "def is_in_image(X_on_minus, x_t):\n",
    "    rank_original = matrix_rank(X_on_minus)\n",
    "    combined_matrix = np.hstack((X_on_minus, x_t.reshape(-1, 1)))\n",
    "    rank_combined = matrix_rank(combined_matrix)\n",
    "    return rank_original == rank_combined\n",
    "\n",
    "# Function to find eta and xi if x(t) is in the image of X_on^-\n",
    "def find_eta_xi(X_on_minus, U_on_minus):\n",
    "    combined_matrix = np.vstack((X_on_minus, U_on_minus))\n",
    "    null_space_vector = null_space(combined_matrix.T)\n",
    "    if null_space_vector.size > 0:\n",
    "        xi = null_space_vector[:X_on_minus.shape[0], 0]\n",
    "        eta = null_space_vector[X_on_minus.shape[0]:, 0]\n",
    "        return xi, eta\n",
    "    return None, None\n",
    "\n",
    "# Function to choose u(t) such that xi^T x(t) + eta^T u(t) = 0\n",
    "def choose_u_t(xi, eta, x_t, c=1):\n",
    "    if eta is not None and np.linalg.norm(eta) != 0:\n",
    "        u_t = - (xi.T @ x_t) / (eta.T @ eta) * eta\n",
    "        if np.linalg.norm(u_t) > c * np.linalg.norm(x_t):\n",
    "            u_t = (c * np.linalg.norm(x_t) / np.linalg.norm(u_t)) * u_t\n",
    "        return u_t\n",
    "    return np.zeros((U_on_minus.shape[0], 1))\n"
   ]
  },
  {
   "cell_type": "code",
   "execution_count": 91,
   "id": "3fb202d7-ef75-4cea-91d1-3959556f44cb",
   "metadata": {},
   "outputs": [
    {
     "name": "stdout",
     "output_type": "stream",
     "text": [
      "Updated Online State Data (X_on):\n",
      " [[  9  18  18  18  18  18  18  18  18  18  -9 -10   1]\n",
      " [ 11  22  22  22  22  22  22  22  22  22  10   1   6]]\n",
      "Updated Online Input Data (U_on):\n",
      " [[ 0.  2.  4.  6.  8. 10. 12. 14. 16. 18.  0.  0.  0.]]\n",
      "Combined data: \n",
      " [[  9.  18.  18.  18.  18.  18.  18.  18.  18.  18.  -9. -10.   1.]\n",
      " [ 11.  22.  22.  22.  22.  22.  22.  22.  22.  22.  10.   1.   6.]\n",
      " [  0.   2.   4.   6.   8.  10.  12.  14.  16.  18.   0.   0.   0.]]\n",
      "Rank of combined matrix: 3\n"
     ]
    }
   ],
   "source": [
    "# Example usage\n",
    "x_t = np.random.randint(-10, 11, size=(X_on_data.shape[0], 1))\n",
    "if not is_in_image(X_on_data, x_t):\n",
    "    u_t = np.zeros((U_on_data.shape[0], 1))\n",
    "else:\n",
    "    xi, eta = find_eta_xi(X_on_data, U_on_data)\n",
    "    u_t = choose_u_t(xi, eta, x_t)\n",
    "\n",
    "# Append new data to X_on_data and U_on_data\n",
    "X_on_data = np.hstack((X_on_data, x_t))\n",
    "U_on_data = np.hstack((U_on_data, u_t))\n",
    "\n",
    "# Display updated data\n",
    "print(\"Updated Online State Data (X_on):\\n\", X_on_data)\n",
    "print(\"Updated Online Input Data (U_on):\\n\", U_on_data) \n",
    "\n",
    "# Check rank condition\n",
    "combined_matrix = np.vstack((X_on_data, U_on_data))\n",
    "print('Combined data: \\n',combined_matrix)\n",
    "rank_combined = matrix_rank(combined_matrix)\n",
    "print(f\"Rank of combined matrix: {rank_combined}\")\n"
   ]
  },
  {
   "cell_type": "code",
   "execution_count": null,
   "id": "c5d396be-3d01-405f-a6db-1dbe6262c660",
   "metadata": {},
   "outputs": [],
   "source": []
  }
 ],
 "metadata": {
  "kernelspec": {
   "display_name": "Python [conda env:base] *",
   "language": "python",
   "name": "conda-base-py"
  },
  "language_info": {
   "codemirror_mode": {
    "name": "ipython",
    "version": 3
   },
   "file_extension": ".py",
   "mimetype": "text/x-python",
   "name": "python",
   "nbconvert_exporter": "python",
   "pygments_lexer": "ipython3",
   "version": "3.12.7"
  }
 },
 "nbformat": 4,
 "nbformat_minor": 5
}
