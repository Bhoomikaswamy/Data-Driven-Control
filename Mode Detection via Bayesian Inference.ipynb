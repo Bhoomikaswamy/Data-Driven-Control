{
 "cells": [
  {
   "cell_type": "code",
   "execution_count": 1,
   "id": "acc2e986-3a7f-42eb-91ed-352644a962e9",
   "metadata": {},
   "outputs": [
    {
     "name": "stdout",
     "output_type": "stream",
     "text": [
      "State Transition Matrix (A):\n",
      " [[ 0.5  -0.1   0.1   0.05]\n",
      " [ 0.2   0.3  -0.1   0.4 ]\n",
      " [ 1.    0.    0.    0.  ]\n",
      " [ 0.    1.    0.    0.  ]]\n",
      "\n",
      "Input Matrix (B):\n",
      " [[ 0.2]\n",
      " [-0.1]\n",
      " [ 0. ]\n",
      " [ 0. ]]\n",
      "\n",
      "Measurement Matrix (C):\n",
      " [[1. 0. 0. 0.]\n",
      " [0. 1. 0. 0.]]\n"
     ]
    }
   ],
   "source": [
    "import numpy as np\n",
    "\n",
    "def mar_to_state_space(Phi_list, Phi_0, r):\n",
    "    \"\"\"Convert MAR model to state-space form.\n",
    "    \n",
    "    Parameters:\n",
    "    - Phi_list: List of MAR coefficient matrices [Phi_1, Phi_2, ..., Phi_k]\n",
    "    - Phi_0: Constant term coefficient vector\n",
    "    - r: Dimension of output vector\n",
    "    \n",
    "    Returns:\n",
    "    - A: State transition matrix\n",
    "    - B: Input (constant) matrix\n",
    "    - C: Measurement matrix\n",
    "    \"\"\"\n",
    "    k = len(Phi_list)  # Number of AR terms\n",
    "    \n",
    "    # Construct A matrix (Companion form)\n",
    "    A = np.zeros((r * k, r * k))\n",
    "    A[:r, :r * k] = np.hstack(Phi_list)  # First block row for AR coefficients\n",
    "    for i in range(1, k):\n",
    "        A[i * r:(i + 1) * r, (i - 1) * r:i * r] = np.eye(r)  # Identity blocks\n",
    "    \n",
    "    # Construct B matrix (constant input)\n",
    "    B = np.zeros((r * k, 1))\n",
    "    B[:r] = Phi_0.reshape(-1, 1)\n",
    "    \n",
    "    # Construct C matrix (outputs are first state)\n",
    "    C = np.zeros((r, r * k))\n",
    "    C[:, :r] = np.eye(r)\n",
    "    \n",
    "    return A, B, C\n",
    "\n",
    "# Example usage\n",
    "r = 2  # Dimension of output vector\n",
    "t = 2  # Number of AR terms\n",
    "\n",
    "# Example MAR coefficients (random for demonstration)\n",
    "Phi_list = [np.array([[0.5, -0.1], [0.2, 0.3]]),\n",
    "            np.array([[0.1, 0.05], [-0.1, 0.4]])]\n",
    "Phi_0 = np.array([0.2, -0.1])\n",
    "\n",
    "A, B, C = mar_to_state_space(Phi_list, Phi_0, r)\n",
    "\n",
    "print(\"State Transition Matrix (A):\\n\", A)\n",
    "print(\"\\nInput Matrix (B):\\n\", B)\n",
    "print(\"\\nMeasurement Matrix (C):\\n\", C)\n"
   ]
  },
  {
   "cell_type": "code",
   "execution_count": 3,
   "id": "6215094b-dbd4-4aa9-a408-e0cf28e34db1",
   "metadata": {},
   "outputs": [
    {
     "name": "stdout",
     "output_type": "stream",
     "text": [
      "Likelihoods: [1.30521663 1.50930969 0.78964651]\n",
      "Posteriors: [0.35975196 0.41600536 0.22424268]\n",
      "Best Mode: 2\n"
     ]
    }
   ],
   "source": [
    "import numpy as np\n",
    "from scipy.stats import multivariate_normal\n",
    "\n",
    "def compute_likelihood(y_t, y_pred, M_pred):\n",
    "    \"\"\"Compute the Gaussian likelihood P(y_t | I_t = j).\"\"\"\n",
    "    return multivariate_normal.pdf(y_t, mean=y_pred, cov=M_pred)\n",
    "\n",
    "def bayes_posterior(priors, likelihoods):\n",
    "    \"\"\"Compute posterior probabilities using Bayes' theorem.\"\"\"\n",
    "    numerator = priors * likelihoods\n",
    "    denominator = np.sum(numerator)\n",
    "    return numerator / denominator if denominator != 0 else np.zeros_like(numerator)\n",
    "\n",
    "# Example Data\n",
    "J = 3  # Number of modes\n",
    "y_t = np.array([1.2, 0.5])  # Current measurement\n",
    "\n",
    "y_preds = [\n",
    "    np.array([1.0, 0.4]),  # Mode 1 predicted measurement\n",
    "    np.array([1.1, 0.45]), # Mode 2 predicted measurement\n",
    "    np.array([1.3, 0.6])   # Mode 3 predicted measurement\n",
    "]\n",
    "\n",
    "M_preds = [\n",
    "    np.array([[0.1, 0.02], [0.02, 0.1]]),  # Mode 1 covariance\n",
    "    np.array([[0.1, 0.01], [0.01, 0.1]]),  # Mode 2 covariance\n",
    "    np.array([[0.2, 0.05], [0.05, 0.2]])   # Mode 3 covariance\n",
    "]\n",
    "\n",
    "priors = np.array([0.33, 0.33, 0.34])  # Uniform priors for all modes\n",
    "\n",
    "# Compute likelihoods for each mode\n",
    "likelihoods = np.array([compute_likelihood(y_t, y_preds[j], M_preds[j]) for j in range(J)])\n",
    "\n",
    "# Compute posterior probabilities\n",
    "posteriors = bayes_posterior(priors, likelihoods)\n",
    "\n",
    "# Find the most probable mode\n",
    "best_mode = np.argmax(posteriors) + 1\n",
    "\n",
    "print(\"Likelihoods:\", likelihoods)\n",
    "print(\"Posteriors:\", posteriors)\n",
    "print(\"Best Mode:\", best_mode)\n"
   ]
  },
  {
   "cell_type": "code",
   "execution_count": 15,
   "id": "fe058d01-177c-4dfd-88aa-a98316d60e67",
   "metadata": {},
   "outputs": [
    {
     "name": "stdout",
     "output_type": "stream",
     "text": [
      "Mode probabilities: {'Mode 1': 0.9999898700090192, 'Mode 2': 1.0129990980874065e-05}\n",
      "Detected Mode: Mode 1\n"
     ]
    }
   ],
   "source": [
    "import numpy as np\n",
    "from scipy.stats import norm\n",
    "\n",
    "# Define system modes (example: two modes with different system matrices)\n",
    "modes = {\n",
    "    \"Mode 1\": np.array([[1.5, 0.5], [0.3, 1.1]]), \n",
    "    \"Mode 2\": np.array([[0.8, 0.2], [0.1, 0.9]])\n",
    "}\n",
    "\n",
    "# Prior probabilities (assume equal probability initially)\n",
    "prior_probs = {\"Mode 1\": 0.5, \"Mode 2\": 0.5}\n",
    "\n",
    "# Generate sample observations (assume some input sequence)\n",
    "u_t = np.array([[1], [2]])  # Example input\n",
    "y_t_observed = np.array([[1.8], [2.5]])  # Example output\n",
    "\n",
    "sigma = 0.1  # Noise variance\n",
    "\n",
    "# Compute likelihoods for each mode\n",
    "likelihoods = {}\n",
    "for mode, B in modes.items():\n",
    "    y_pred = B @ u_t  # Predicted output\n",
    "    likelihood = norm.pdf(np.linalg.norm(y_t_observed - y_pred), scale=sigma)\n",
    "    likelihoods[mode] = likelihood\n",
    "\n",
    "# Compute posterior probabilities\n",
    "posteriors = {mode: (likelihoods[mode] * prior_probs[mode]) for mode in modes}\n",
    "\n",
    "# Normalize posteriors\n",
    "total_prob = sum(posteriors.values())\n",
    "posteriors = {mode: post / total_prob for mode, post in posteriors.items()}\n",
    "\n",
    "# Identify most likely mode\n",
    "detected_mode = max(posteriors, key=posteriors.get)\n",
    "\n",
    "# Print results\n",
    "print(\"Mode probabilities:\", posteriors)\n",
    "print(\"Detected Mode:\", detected_mode)\n"
   ]
  },
  {
   "cell_type": "code",
   "execution_count": null,
   "id": "0bb27582-931b-4d34-8d2c-2107a3021203",
   "metadata": {},
   "outputs": [],
   "source": []
  }
 ],
 "metadata": {
  "kernelspec": {
   "display_name": "Python [conda env:base] *",
   "language": "python",
   "name": "conda-base-py"
  },
  "language_info": {
   "codemirror_mode": {
    "name": "ipython",
    "version": 3
   },
   "file_extension": ".py",
   "mimetype": "text/x-python",
   "name": "python",
   "nbconvert_exporter": "python",
   "pygments_lexer": "ipython3",
   "version": "3.12.7"
  }
 },
 "nbformat": 4,
 "nbformat_minor": 5
}
